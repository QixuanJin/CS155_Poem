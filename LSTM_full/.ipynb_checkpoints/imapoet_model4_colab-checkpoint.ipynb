{
 "cells": [
  {
   "cell_type": "code",
   "execution_count": 1,
   "metadata": {},
   "outputs": [
    {
     "name": "stderr",
     "output_type": "stream",
     "text": [
      "Using TensorFlow backend.\n"
     ]
    }
   ],
   "source": [
    "import numpy as np\n",
    "import re\n",
    "from keras.models import Sequential\n",
    "from keras.layers import LSTM, Dense, Dropout\n",
    "from keras.utils import to_categorical\n",
    "from keras.preprocessing.sequence import pad_sequences\n",
    "from pickle import dump\n",
    "from pickle import load \n",
    "from keras.models import load_model\n",
    "import pickle"
   ]
  },
  {
   "cell_type": "code",
   "execution_count": 3,
   "metadata": {},
   "outputs": [],
   "source": [
    "# Note: Colab pipeline meant for continuing model training \n",
    "# We load the processed character text instead of the ready-to-run X and y data\n",
    "# because uploading X and y data usually too large to upload. \n",
    "# We repeat the preprocessing steps \n",
    "with open(\"process_spenser.txt\", \"rb\") as fp: \n",
    "    char_text2 = pickle.load(fp) \n",
    "with open(\"process_shakespeare_final.txt\", \"rb\") as fp: \n",
    "    char_text = pickle.load(fp)"
   ]
  },
  {
   "cell_type": "code",
   "execution_count": 4,
   "metadata": {},
   "outputs": [],
   "source": [
    "# Load mapping\n",
    "with open(\"mapping.pkl\", \"rb\") as fp: \n",
    "    mapping = pickle.load(fp)\n",
    "vocab_size = len(mapping)"
   ]
  },
  {
   "cell_type": "code",
   "execution_count": 5,
   "metadata": {},
   "outputs": [
    {
     "name": "stdout",
     "output_type": "stream",
     "text": [
      "91786\n"
     ]
    }
   ],
   "source": [
    "length = 40 + 1\n",
    "sequences = []\n",
    "for i in range(length, len(char_text)): \n",
    "    seq = char_text[i-length:i]\n",
    "    seq_string = ''.join(seq)\n",
    "    sequences.append(seq_string)\n",
    "print(len(sequences))"
   ]
  },
  {
   "cell_type": "code",
   "execution_count": 6,
   "metadata": {},
   "outputs": [
    {
     "name": "stdout",
     "output_type": "stream",
     "text": [
      "53711\n"
     ]
    }
   ],
   "source": [
    "length2 = 40 + 1\n",
    "sequences2 = []\n",
    "for i in range(length2, len(char_text2)): \n",
    "    seq = char_text2[i-length2:i]\n",
    "    seq_string = ''.join(seq)\n",
    "    sequences2.append(seq_string)\n",
    "print(len(sequences2))"
   ]
  },
  {
   "cell_type": "code",
   "execution_count": 7,
   "metadata": {},
   "outputs": [
    {
     "name": "stdout",
     "output_type": "stream",
     "text": [
      "41\n"
     ]
    }
   ],
   "source": [
    "num_char = []\n",
    "for line in sequences: \n",
    "    encoded = [mapping[char] for char in line]\n",
    "    num_char.append(encoded)\n",
    "print(len(num_char[0]))"
   ]
  },
  {
   "cell_type": "code",
   "execution_count": 8,
   "metadata": {},
   "outputs": [
    {
     "name": "stdout",
     "output_type": "stream",
     "text": [
      "41\n"
     ]
    }
   ],
   "source": [
    "num_char2 = []\n",
    "for line in sequences2: \n",
    "    encoded = [mapping[char] for char in line]\n",
    "    num_char2.append(encoded)\n",
    "print(len(num_char2[0]))"
   ]
  },
  {
   "cell_type": "code",
   "execution_count": 9,
   "metadata": {},
   "outputs": [
    {
     "name": "stdout",
     "output_type": "stream",
     "text": [
      "(91786, 40)\n",
      "(91786,)\n"
     ]
    }
   ],
   "source": [
    "num_char = np.array(num_char)\n",
    "X, y = num_char[:, :-1], num_char[:, -1]\n",
    "print(X.shape)\n",
    "print(y.shape)"
   ]
  },
  {
   "cell_type": "code",
   "execution_count": 10,
   "metadata": {},
   "outputs": [
    {
     "name": "stdout",
     "output_type": "stream",
     "text": [
      "(53711, 40)\n",
      "(53711,)\n"
     ]
    }
   ],
   "source": [
    "num_char2 = np.array(num_char2)\n",
    "X2, y2 = num_char2[:, :-1], num_char2[:, -1]\n",
    "print(X2.shape)\n",
    "print(y2.shape)"
   ]
  },
  {
   "cell_type": "code",
   "execution_count": 11,
   "metadata": {},
   "outputs": [
    {
     "name": "stdout",
     "output_type": "stream",
     "text": [
      "(91786, 40, 60)\n",
      "(91786, 60)\n"
     ]
    }
   ],
   "source": [
    "X = np.array([to_categorical(x, num_classes=len(mapping)) for x in X])\n",
    "y = to_categorical(y, num_classes=len(mapping))\n",
    "print(X.shape)\n",
    "print(y.shape)"
   ]
  },
  {
   "cell_type": "code",
   "execution_count": 12,
   "metadata": {},
   "outputs": [
    {
     "name": "stdout",
     "output_type": "stream",
     "text": [
      "(53711, 40, 60)\n",
      "(53711, 60)\n"
     ]
    }
   ],
   "source": [
    "X2 = np.array([to_categorical(x, num_classes=len(mapping)) for x in X2])\n",
    "y2 = to_categorical(y2, num_classes=len(mapping))\n",
    "print(X2.shape)\n",
    "print(y2.shape)"
   ]
  },
  {
   "cell_type": "code",
   "execution_count": null,
   "metadata": {},
   "outputs": [],
   "source": [
    "# For running locally, you can load directly and then stack \n",
    "with open(\"X_training_shakespeare_final.h5\", \"rb\") as fp: \n",
    "    X = pickle.load(fp)\n",
    "with open(\"y_training_shakespeare_final.h5\", \"rb\") as fp: \n",
    "    y = pickle.load(fp)\n",
    "with open(\"X_training_spenser.h5\", \"rb\") as fp: \n",
    "    X2 = pickle.load(fp)\n",
    "with open(\"y_training_spenser.h5\", \"rb\") as fp: \n",
    "    y2 = pickle.load(fp)"
   ]
  },
  {
   "cell_type": "code",
   "execution_count": 13,
   "metadata": {},
   "outputs": [
    {
     "name": "stdout",
     "output_type": "stream",
     "text": [
      "(145497, 40, 60)\n",
      "(145497, 60)\n"
     ]
    }
   ],
   "source": [
    "# Now X_train y_train ready for training\n",
    "X_train = np.vstack((X2, X))\n",
    "print(X_train.shape)\n",
    "y_train = np.vstack((y2, y))\n",
    "print(y_train.shape)"
   ]
  },
  {
   "cell_type": "code",
   "execution_count": null,
   "metadata": {},
   "outputs": [],
   "source": [
    "# Load from latest version of model 4 to continue training\n",
    "model = load_model(\"model4_3.h5\")\n",
    "print(model.summary())"
   ]
  },
  {
   "cell_type": "code",
   "execution_count": 16,
   "metadata": {},
   "outputs": [
    {
     "name": "stdout",
     "output_type": "stream",
     "text": [
      "Epoch 1/1\n",
      "91786/91786 [==============================] - 107s 1ms/step - loss: 1.3200 - acc: 0.6026\n"
     ]
    },
    {
     "data": {
      "text/plain": [
       "<keras.callbacks.History at 0xbd765cd68>"
      ]
     },
     "execution_count": 16,
     "metadata": {},
     "output_type": "execute_result"
    }
   ],
   "source": [
    "model.compile(loss='categorical_crossentropy', optimizer='adam', metrics=['accuracy'])\n",
    "model.fit(X, y, epochs = 20, batch_size = 64, verbose=1)"
   ]
  },
  {
   "cell_type": "code",
   "execution_count": null,
   "metadata": {},
   "outputs": [],
   "source": [
    "# Save the trained model\n",
    "filename = \"model4_4.h5\"\n",
    "model.save(filename)"
   ]
  },
  {
   "cell_type": "code",
   "execution_count": null,
   "metadata": {},
   "outputs": [],
   "source": [
    "# Download from colab to local disk\n",
    "from google.colab import files\n",
    "files.download(filename)"
   ]
  }
 ],
 "metadata": {
  "kernelspec": {
   "display_name": "Python 3",
   "language": "python",
   "name": "python3"
  },
  "language_info": {
   "codemirror_mode": {
    "name": "ipython",
    "version": 3
   },
   "file_extension": ".py",
   "mimetype": "text/x-python",
   "name": "python",
   "nbconvert_exporter": "python",
   "pygments_lexer": "ipython3",
   "version": "3.6.8"
  }
 },
 "nbformat": 4,
 "nbformat_minor": 2
}
