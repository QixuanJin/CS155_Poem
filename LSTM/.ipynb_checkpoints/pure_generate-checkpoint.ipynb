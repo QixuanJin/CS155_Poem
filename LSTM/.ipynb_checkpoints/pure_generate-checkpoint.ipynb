{
 "cells": [
  {
   "cell_type": "code",
   "execution_count": 1,
   "metadata": {},
   "outputs": [
    {
     "name": "stderr",
     "output_type": "stream",
     "text": [
      "Using TensorFlow backend.\n"
     ]
    }
   ],
   "source": [
    "import numpy as np\n",
    "import re\n",
    "from keras.utils import to_categorical\n",
    "from keras.preprocessing.sequence import pad_sequences\n",
    "from pickle import dump\n",
    "from pickle import load \n",
    "from keras.models import load_model\n",
    "import pickle"
   ]
  },
  {
   "cell_type": "code",
   "execution_count": 2,
   "metadata": {},
   "outputs": [],
   "source": [
    "# Load model and mapping\n",
    "model = load_model(\"model5_6.h5\")\n",
    "mapping = load(open(\"mapping.pkl\", \"rb\"))\n",
    "vocab_size = len(mapping)"
   ]
  },
  {
   "cell_type": "code",
   "execution_count": 3,
   "metadata": {},
   "outputs": [],
   "source": [
    "# Sample from predictions (array a) with temperature as hyperparameter\n",
    "# Temp = 1 as default -> normal unscaled \n",
    "# Returns the integer index corresponding to the predicted character\n",
    "def sample(a, temperature=1.0):\n",
    "    a = np.asarray(a).astype('float64')\n",
    "    a = a**(1/temperature)\n",
    "    p_sum = a.sum()\n",
    "    sample_temp = a/p_sum \n",
    "    return np.argmax(np.random.multinomial(1, sample_temp, 1))"
   ]
  },
  {
   "cell_type": "code",
   "execution_count": 4,
   "metadata": {},
   "outputs": [],
   "source": [
    "def character(text): \n",
    "    # Convert all character except newline (not in dictionary) to integers\n",
    "    encoded_seed = [mapping[char] for char in text if char != \"\\n\"]\n",
    "    # Pad sequences to be of fixed length 40\n",
    "    encoded_seed = pad_sequences([encoded_seed], maxlen=40, truncating='pre')\n",
    "    # Return hot one-encoded \n",
    "    return np.array(to_categorical(encoded_seed, num_classes = vocab_size))"
   ]
  },
  {
   "cell_type": "code",
   "execution_count": 7,
   "metadata": {},
   "outputs": [],
   "source": [
    "# Fixed 40 character per line, 14 lines poem generation \n",
    "seed = \"Shall I compare thee to a summer's day?\\n\"\n",
    "# Number of current lines\n",
    "num_line = 1\n",
    "# Keep track of text of poem\n",
    "text = seed\n",
    "# Current character count of line \n",
    "curr_line_len = 0\n",
    "# Hard cutoff\n",
    "curr_line_cutoff = 40\n",
    "\n",
    "# Temperature hyperparameter \n",
    "temp = 0.5\n",
    "\n",
    "while True: \n",
    "    # If current line 40 characters, line break\n",
    "    if curr_line_len == curr_line_cutoff:\n",
    "        num_line += 1\n",
    "        # If we have 14 lines, finish poem generation\n",
    "        if num_line == 14: \n",
    "            break\n",
    "        text += \"\\n\"\n",
    "        curr_line_len = 0\n",
    "    \n",
    "    encoded_seed = character(text)\n",
    "    # Get array of predictions from model \n",
    "    predict = model.predict(encoded_seed, verbose=0)[0]\n",
    "    next_index = sample(predict, temp)\n",
    "    \n",
    "    # Find the character corresponding to the integer index\n",
    "    for char, index in mapping.items(): \n",
    "        if index == next_index: \n",
    "            out_char = char \n",
    "            break \n",
    "    # Add character to text\n",
    "    text += out_char\n",
    "    # Add to current length of line\n",
    "    curr_line_len += 1"
   ]
  },
  {
   "cell_type": "code",
   "execution_count": 8,
   "metadata": {},
   "outputs": [
    {
     "name": "stdout",
     "output_type": "stream",
     "text": [
      "Shall I compare thee to a summer's day?\n",
      "As enough thou thy dear heart that perju\n",
      "red with the state,It thy self and such \n",
      "would be the deart,If thy self the leeve\n",
      "st of the shore, black,Had the store the\n",
      " thoughts of the despise,Whill I compoun\n",
      "ted and love with false,But from thy bea\n",
      "uty with thy self art thee.As thy heart \n",
      "in thy hue, for I may shall refore,As I \n",
      "shall be thy sourly memory:And my love t\n",
      "hat love that mine eye doth decay,To thi\n",
      "nk in my love that I have spent.Like of \n",
      "the summer's water by thy self too short\n",
      ",Nor thy scythe tongues that the state b\n"
     ]
    }
   ],
   "source": [
    "print(text)"
   ]
  },
  {
   "cell_type": "code",
   "execution_count": null,
   "metadata": {},
   "outputs": [],
   "source": [
    "# Smarter poem generation (no fixed line length)\n",
    "\n",
    "seed = \"shall i compare thee to a summer's day?\\n\"\n",
    "# Number of current lines\n",
    "num_line = 1\n",
    "# Keep track of text of poem\n",
    "text = seed\n",
    "# Current character count of line \n",
    "curr_line_len = 0\n",
    "curr_line_threshold = 30\n",
    "\n",
    "# Temperature hyperparameter \n",
    "temp = 0.4\n",
    "\n",
    "while True:  \n",
    "    encoded_seed = character(text)\n",
    "    # Get array of predictions from model \n",
    "    predict = model.predict(encoded_seed, verbose=0)[0]\n",
    "    next_index = sample(predict, temp)\n",
    "    \n",
    "    # Find the character corresponding to the integer index\n",
    "    for char, index in mapping.items(): \n",
    "        if index == next_index: \n",
    "            out_char = char \n",
    "            break \n",
    "    \n",
    "    # Once above threshold for number of characters in line\n",
    "    # Each capital letter indicate newline \n",
    "    if curr_line_len >= curr_line_threshold and out_char.istitle(): \n",
    "        num_line += 1\n",
    "        # If we have 14 lines, finish poem generation\n",
    "        if num_line == 14: \n",
    "            break\n",
    "        text += \"\\n\"\n",
    "        curr_line_len = 0\n",
    "    # Add character to text\n",
    "    text += out_char\n",
    "    # Add to current length of line\n",
    "    curr_line_len += 1\n",
    "        "
   ]
  },
  {
   "cell_type": "code",
   "execution_count": null,
   "metadata": {},
   "outputs": [],
   "source": [
    "print(text)"
   ]
  },
  {
   "cell_type": "code",
   "execution_count": null,
   "metadata": {},
   "outputs": [],
   "source": []
  }
 ],
 "metadata": {
  "kernelspec": {
   "display_name": "Python 3",
   "language": "python",
   "name": "python3"
  },
  "language_info": {
   "codemirror_mode": {
    "name": "ipython",
    "version": 3
   },
   "file_extension": ".py",
   "mimetype": "text/x-python",
   "name": "python",
   "nbconvert_exporter": "python",
   "pygments_lexer": "ipython3",
   "version": "3.6.8"
  }
 },
 "nbformat": 4,
 "nbformat_minor": 2
}
