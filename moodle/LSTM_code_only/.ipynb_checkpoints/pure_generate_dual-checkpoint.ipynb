{
 "cells": [
  {
   "cell_type": "code",
   "execution_count": 1,
   "metadata": {},
   "outputs": [
    {
     "name": "stderr",
     "output_type": "stream",
     "text": [
      "Using TensorFlow backend.\n"
     ]
    }
   ],
   "source": [
    "import numpy as np\n",
    "import re\n",
    "from keras.models import Sequential\n",
    "from keras.layers import LSTM, Dense \n",
    "from keras.utils import to_categorical\n",
    "from keras.preprocessing.sequence import pad_sequences\n",
    "from pickle import dump\n",
    "from pickle import load \n",
    "from keras.models import load_model\n",
    "import pickle"
   ]
  },
  {
   "cell_type": "code",
   "execution_count": 2,
   "metadata": {},
   "outputs": [],
   "source": [
    "# Load model and mapping\n",
    "model = load_model(\"model7_2.h5\")\n",
    "mapping = load(open(\"mapping.pkl\", \"rb\"))\n",
    "vocab_size = len(mapping)"
   ]
  },
  {
   "cell_type": "code",
   "execution_count": 3,
   "metadata": {},
   "outputs": [],
   "source": [
    "# Sample from predictions (array a) with temperature as hyperparameter\n",
    "# Temp = 1 as default -> normal unscaled \n",
    "# Returns the integer index corresponding to the predicted character\n",
    "def sample(a, temperature=1.0):\n",
    "    a = np.asarray(a).astype('float64')\n",
    "    a = a**(1/temperature)\n",
    "    p_sum = a.sum()\n",
    "    sample_temp = a/p_sum \n",
    "    return np.argmax(np.random.multinomial(1, sample_temp, 1))"
   ]
  },
  {
   "cell_type": "code",
   "execution_count": 4,
   "metadata": {},
   "outputs": [],
   "source": [
    "def character(text): \n",
    "    # Convert all character except newline (not in dictionary) to integers\n",
    "    encoded_seed = [mapping[char] for char in text if char != \"\\n\"]\n",
    "    # Pad sequences to be of fixed length 40\n",
    "    encoded_seed = pad_sequences([encoded_seed], maxlen=40, truncating='pre')\n",
    "    # Return hot one-encoded \n",
    "    return np.array(to_categorical(encoded_seed, num_classes = vocab_size))"
   ]
  },
  {
   "cell_type": "code",
   "execution_count": 5,
   "metadata": {},
   "outputs": [],
   "source": [
    "# Fixed 40 character per line, 14 lines poem generation\n",
    "seed = \"Shall I compare thee to a summer's day?\\n\"\n",
    "# Number of current lines\n",
    "num_line = 1\n",
    "# Keep track of text of poem\n",
    "text = seed\n",
    "# Current character count of line \n",
    "curr_line_len = 0\n",
    "# Hard cutoff\n",
    "curr_line_cutoff = 40\n",
    "\n",
    "# Temperature hyperparameter \n",
    "temp = 0.5\n",
    "\n",
    "while True: \n",
    "    # If current line 40 characters, line break\n",
    "    if curr_line_len == curr_line_cutoff:\n",
    "        num_line += 1\n",
    "        # If we have 14 lines, finish poem generation\n",
    "        if num_line == 14: \n",
    "            break\n",
    "        text += \"\\n\"\n",
    "        curr_line_len = 0\n",
    "    \n",
    "    encoded_seed = character(text)\n",
    "    # Get array of predictions from model \n",
    "    # Index 0 because we want the main output - from final softmax layer\n",
    "    predict = model.predict([encoded_seed, encoded_seed], verbose=0)[0][0]\n",
    "    next_index = sample(predict, temp)\n",
    "    \n",
    "    # Find the character corresponding to the integer index\n",
    "    for char, index in mapping.items(): \n",
    "        if index == next_index: \n",
    "            out_char = char \n",
    "            break \n",
    "    # Add character to text\n",
    "    text += out_char\n",
    "    # Add to current length of line\n",
    "    curr_line_len += 1"
   ]
  },
  {
   "cell_type": "code",
   "execution_count": 6,
   "metadata": {},
   "outputs": [
    {
     "name": "stdout",
     "output_type": "stream",
     "text": [
      "Shall I compare thee to a summer's day?\n",
      " And so all worths so such a seture. But\n",
      " when I am shamed buried and from thee. \n",
      "Then lives I when I being sweet love in \n",
      "thee,That then I am still such a sweet s\n",
      "kill,To lines and there is not love's lo\n",
      "ss thee, Then use the sweet sense love t\n",
      "o the spend:The best of worth with my se\n",
      "lf besence behing,To be a fair thou art,\n",
      " and were to be, To show all those thoug\n",
      "hts in his sweet, then I down,To I engre\n",
      "nce of my self, keeps your dear, Thou ar\n",
      "t my heart con my mind,The life respecie\n",
      "s no new lead, I will belong, That I wil\n"
     ]
    }
   ],
   "source": [
    "print(text)"
   ]
  },
  {
   "cell_type": "code",
   "execution_count": 11,
   "metadata": {},
   "outputs": [],
   "source": [
    "# Smarter poem generation (no fixed line length)\n",
    "\n",
    "seed = \"Shall I compare thee to a summer's day?\\n\"\n",
    "# Number of current lines\n",
    "num_line = 1\n",
    "# Keep track of text of poem\n",
    "text = seed\n",
    "# Current character count of line \n",
    "curr_line_len = 0\n",
    "curr_line_threshold = 30\n",
    "\n",
    "# Temperature hyperparameter \n",
    "temp = 0.5\n",
    "\n",
    "while True: \n",
    "    encoded_seed = character(text)\n",
    "    # Get array of predictions from model \n",
    "    # Index 0 because we want the main output - from final softmax layer\n",
    "    predict = model.predict([encoded_seed, encoded_seed], verbose=0)[0][0]\n",
    "    next_index = sample(predict, temp)\n",
    "    \n",
    "    # Find the character corresponding to the integer index\n",
    "    for char, index in mapping.items(): \n",
    "        if index == next_index: \n",
    "            out_char = char \n",
    "            break \n",
    "    # Once above threshold for number of characters in line\n",
    "    # Each capital letter indicate newline \n",
    "    if curr_line_len >= curr_line_threshold and out_char.istitle(): \n",
    "        num_line += 1\n",
    "        # If we have 14 lines, finish poem generation\n",
    "        if num_line == 14: \n",
    "            break\n",
    "        text += \"\\n\"\n",
    "        curr_line_len = 0\n",
    "    # Add character to text\n",
    "    text += out_char\n",
    "    # Add to current length of line\n",
    "    curr_line_len += 1"
   ]
  },
  {
   "cell_type": "code",
   "execution_count": 12,
   "metadata": {},
   "outputs": [
    {
     "name": "stdout",
     "output_type": "stream",
     "text": [
      "Shall I compare thee to a summer's day?\n",
      "When a man worthy I to be so love'.\n",
      "They should love for my self away, and thee,\n",
      "In all to be a scope thee alone, onwarn,\n",
      "And summer's with her fair frown, and they leaves prove, \n",
      "And therefore to be so chief doth \n",
      "Time's look,That thou hast thou thy sweet four appete,\n",
      "But not to the mornot beauteous should bear,\n",
      "That the world must doth for my self away.\n",
      "The time doth proud thee that \n",
      "I an an they,And yet the bounteous rediguteons with teed,\n",
      "Come and heart of a worthier when stome,\n",
      "When I am still that which thou ant beauty's loss,\n",
      "And most world, despite of many smalloal know,\n",
      "That I may not whot should the world are dead,\n"
     ]
    }
   ],
   "source": [
    "print(text)"
   ]
  },
  {
   "cell_type": "code",
   "execution_count": null,
   "metadata": {},
   "outputs": [],
   "source": []
  }
 ],
 "metadata": {
  "kernelspec": {
   "display_name": "Python 3",
   "language": "python",
   "name": "python3"
  },
  "language_info": {
   "codemirror_mode": {
    "name": "ipython",
    "version": 3
   },
   "file_extension": ".py",
   "mimetype": "text/x-python",
   "name": "python",
   "nbconvert_exporter": "python",
   "pygments_lexer": "ipython3",
   "version": "3.6.8"
  }
 },
 "nbformat": 4,
 "nbformat_minor": 2
}
