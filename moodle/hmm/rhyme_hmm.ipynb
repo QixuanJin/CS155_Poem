{
  "nbformat": 4,
  "nbformat_minor": 0,
  "metadata": {
    "colab": {
      "name": "rhyme_hmm.ipynb",
      "version": "0.3.2",
      "provenance": [],
      "collapsed_sections": []
    },
    "kernelspec": {
      "name": "python3",
      "display_name": "Python 3"
    },
    "accelerator": "GPU"
  },
  "cells": [
    {
      "metadata": {
        "id": "n2kweaR6g3Fu",
        "colab_type": "code",
        "colab": {}
      },
      "cell_type": "code",
      "source": [
        "from google.colab import files\n",
        "def getLocalFiles():\n",
        "    _files = files.upload()\n",
        "    if len(_files) >0:\n",
        "       for k,v in _files.items():\n",
        "        open(k,'wb').write(v)\n",
        "getLocalFiles()\n",
        "\n",
        "files.upload()"
      ],
      "execution_count": 0,
      "outputs": []
    },
    {
      "metadata": {
        "id": "MhCZ_bbtg8H6",
        "colab_type": "code",
        "colab": {}
      },
      "cell_type": "code",
      "source": [
        "import numpy as np\n",
        "import nltk\n",
        "import graphviz as gv\n",
        "\n",
        "from nltk.tokenize import RegexpTokenizer\n",
        "from nltk.corpus import cmudict\n",
        "from backwards_HMM import unsupervised_HMM"
      ],
      "execution_count": 0,
      "outputs": []
    },
    {
      "metadata": {
        "id": "_6l-sJhmg9eu",
        "colab_type": "code",
        "colab": {}
      },
      "cell_type": "code",
      "source": [
        "def tokenize(filename):\n",
        "  tokenizer = RegexpTokenizer('\\w[\\w|\\'|-]*\\w|\\w') \n",
        "\n",
        "  tokens = []\n",
        "  with open(filename) as f:\n",
        "    for line in f:\n",
        "      line = line.strip()\n",
        "      if (not line.isdigit() and len(line) > 1):\n",
        "        line = line.lower()\n",
        "        t = tokenizer.tokenize(line)\n",
        "        if len(t) > 1:\n",
        "          tokens.append(t[::-1])\n",
        "  return tokens\n",
        "\n",
        "def parse_rhyme(tokens):\n",
        "  rhyme = {}\n",
        "  dic = cmudict.dict()\n",
        "  for line in tokens:\n",
        "    for word in line:\n",
        "      key = ''\n",
        "      \n",
        "      try:\n",
        "        pro = dic[word][-1]\n",
        "        key = ','.join(pro[-2:])\n",
        "      except (KeyError):\n",
        "        pass\n",
        "      \n",
        "      if len(key) > 0:\n",
        "        if key in rhyme.keys():\n",
        "          rhyme[key].add(word)\n",
        "        else:\n",
        "          rhyme[key] = set()\n",
        "          rhyme[key].add(word)\n",
        "          \n",
        "  for key, value in list(rhyme.items()):\n",
        "    if len(list(value)) < 2:\n",
        "      del rhyme[key]\n",
        "    else:\n",
        "      rhyme[key] = list(value)\n",
        "  \n",
        "  return rhyme\n",
        "\n",
        "def assign_ids(tokens):\n",
        "    counter = 0\n",
        "    ids_map = {}\n",
        "\n",
        "    for line in tokens:\n",
        "        for word in line:\n",
        "            if word not in ids_map:\n",
        "                ids_map[word] = counter\n",
        "                counter += 1\n",
        "    return ids_map\n",
        "\n",
        "def generate_ids(tokens, ids_map):\n",
        "    ids = []\n",
        "    for line in tokens:\n",
        "        line_ids = [ids_map[word] for word in line]\n",
        "        ids.append(line_ids)\n",
        "    return ids\n",
        "        \n",
        "def reverse_map(m, value):\n",
        "  if value == 'id':\n",
        "    ids_map_r = {}\n",
        "    for key, value in m.items():\n",
        "        ids_map_r[value] = key\n",
        "    return ids_map_r\n",
        "  else:\n",
        "    rhyme_map_r = {}\n",
        "    for key in m:\n",
        "      for v in m[key]:\n",
        "        rhyme_map_r.setdefault(v,[]).append(key)\n",
        "    return rhyme_map_r\n",
        "  \n",
        "def write_poem(hmm, ids_map, ids_map_r, rhyme_map, rhyme_map_r, nwords, nlines=14):\n",
        "    pattern = {2:0, 3:1, 6:4, 7:5, 10:8, 11:9, 13:12}\n",
        "    poem = ''\n",
        "    \n",
        "    end_words = [''] * nlines\n",
        "    \n",
        "    for n in range(nlines):\n",
        "      if n in pattern:\n",
        "        end = rhyme_map_r[end_words[pattern[n]]][0]\n",
        "        rhymes = rhyme_map[end]\n",
        "        rhymes.remove(end_words[pattern[n]])\n",
        "        end_words[n] = np.random.choice(rhymes)\n",
        "      else:\n",
        "        end_words[n] = np.random.choice(list(rhyme_map_r.keys()))\n",
        "        \n",
        "    for n in range(nlines):\n",
        "        line_ids, states = hmm.generate_emission(nwords, ids_map[end_words[n]])\n",
        "        words = [ids_map_r[i] for i in line_ids]\n",
        "        poem += ' '.join(words).capitalize()\n",
        "        \n",
        "        if ((n + 1) % 4 == 0) or (n == 13):\n",
        "          poem += '.\\n'\n",
        "        else:\n",
        "          poem += ',\\n'\n",
        "          \n",
        "    return poem\n",
        "\n",
        "def make_graph(matrix):\n",
        "\n",
        "    graph = gv.Digraph(format='png')\n",
        "    n, m = matrix.shape\n",
        "    \n",
        "    for i in range(n):\n",
        "      graph.node(str(i))\n",
        "    \n",
        "    rows, cols = np.where(matrix >= 0.01)    \n",
        "    weights = matrix[rows, cols]\n",
        "    \n",
        "    rows = map(str, rows.tolist())\n",
        "    cols = map(str, cols.tolist())\n",
        "    \n",
        "    \n",
        "    edges = zip(rows, cols)\n",
        "    weighted_edges = zip(edges, map(lambda x: \"%0.2f\" % (x), weights))\n",
        "    \n",
        "    for edge in weighted_edges:\n",
        "      if isinstance(edge[0], tuple):\n",
        "        graph.edge(*(edge[0] + (edge[1],)))\n",
        "      else:\n",
        "        graph.edge(edge)\n",
        "    return graph"
      ],
      "execution_count": 0,
      "outputs": []
    },
    {
      "metadata": {
        "id": "n_0_i2ywlqxU",
        "colab_type": "code",
        "colab": {}
      },
      "cell_type": "code",
      "source": [
        "tokens = tokenize('shakespeare.txt')\n",
        "\n",
        "ids_map = assign_ids(tokens)\n",
        "ids = generate_ids(tokens, ids_map)\n",
        "ids_map_r = reverse_map(ids_map, value='id')\n",
        "\n",
        "rhyme_map = parse_rhyme(tokens)\n",
        "rhyme_map_r = reverse_map(rhyme_map, value='rhyme')"
      ],
      "execution_count": 0,
      "outputs": []
    },
    {
      "metadata": {
        "id": "5s4LAWQEoy1b",
        "colab_type": "code",
        "colab": {}
      },
      "cell_type": "code",
      "source": [
        "model = unsupervised_HMM(ids, 25, 1000)"
      ],
      "execution_count": 0,
      "outputs": []
    },
    {
      "metadata": {
        "id": "JudBardQz5gr",
        "colab_type": "code",
        "outputId": "4849248b-1efc-46fc-83db-3f8234b7778b",
        "colab": {
          "base_uri": "https://localhost:8080/",
          "height": 272
        }
      },
      "cell_type": "code",
      "source": [
        "poem = write_poem(model, ids_map, ids_map_r, rhyme_map, rhyme_map_r, 8)\n",
        "print(poem)"
      ],
      "execution_count": 89,
      "outputs": [
        {
          "output_type": "stream",
          "text": [
            "One of unset candles the beauty twire worthiness,\n",
            "Year earth hast bonds i not be happy,\n",
            "That with thy alone held on the this,\n",
            "That of bright life in second bed copy.\n",
            "Thou from her glass are of my ragged,\n",
            "Name forget as what then audit love runs,\n",
            "Prize this i so shines that be naked,\n",
            "Consecrate murd'rous root which have why impediments affections.\n",
            "Robe old to bitterness are my need substance,\n",
            "In thy duty there they depend defaced remains,\n",
            "Of these fair in men to hours presence,\n",
            "Her is to all this second wrongs gains.\n",
            "Love shines under which hand for thus survive,\n",
            "She sinks back i love's to not strive.\n",
            "\n"
          ],
          "name": "stdout"
        }
      ]
    },
    {
      "metadata": {
        "id": "eEUahrEA8huD",
        "colab_type": "code",
        "colab": {
          "base_uri": "https://localhost:8080/",
          "height": 1292
        },
        "outputId": "15e4fc31-7ad4-49f3-9a2e-b98b939fa795"
      },
      "cell_type": "code",
      "source": [
        "O = np.array(model.O)\n",
        "\n",
        "for i in range(len(O)):\n",
        "    top10 = O[i].argsort()[-10:][::-1]\n",
        "    print(\"State \" + str(i))\n",
        "    for j in top10:\n",
        "        print(ids_map_r[j] + \", \", end=\"\")\n",
        "    print(\"\\n\")"
      ],
      "execution_count": 24,
      "outputs": [
        {
          "output_type": "stream",
          "text": [
            "State 0\n",
            "which, thou, time, world, it, night, beauty, that, why, day, \n",
            "\n",
            "State 1\n",
            "i, and, to, do, shall, is, but, in, o, may, \n",
            "\n",
            "State 2\n",
            "me, not, be, you, am, so, thee, time's, live, both, \n",
            "\n",
            "State 3\n",
            "more, are, you, all, my, so, but, or, how, like, \n",
            "\n",
            "State 4\n",
            "art, and, sweet, then, fair, o, dost, when, but, which, \n",
            "\n",
            "State 5\n",
            "a, all, with, up, best, than, one, as, beauty, what, \n",
            "\n",
            "State 6\n",
            "it, beauty, part, love, new, one, how, eye, he, full, \n",
            "\n",
            "State 7\n",
            "days, face, pride, away, night, respect, set, show, state, die, \n",
            "\n",
            "State 8\n",
            "love, self, heart, eyes, eye, own, verse, mind, name, friend, \n",
            "\n",
            "State 9\n",
            "of, is, with, and, can, hath, nor, are, or, have, \n",
            "\n",
            "State 10\n",
            "to, in, on, of, and, for, doth, with, from, than, \n",
            "\n",
            "State 11\n",
            "hue, mine, time, doom, memory, rhyme, hate, skill, age, youth, \n",
            "\n",
            "State 12\n",
            "thou, so, love, have, but, as, that, thee, for, yet, \n",
            "\n",
            "State 13\n",
            "will, sun, day, store, self, view, heart, wrong, see, where, \n",
            "\n",
            "State 14\n",
            "alone, spent, expressed, appear, report, knife, lies, increase, dyed, commits, \n",
            "\n",
            "State 15\n",
            "i, thee, me, when, what, that, you, this, and, love, \n",
            "\n",
            "State 16\n",
            "the, that, thy, a, this, his, be, it, your, by, \n",
            "\n",
            "State 17\n",
            "my, thy, your, no, mine, their, thine, his, her, love's, \n",
            "\n",
            "State 18\n",
            "in, his, sweet, no, being, beauty's, did, better, nor, were, \n",
            "\n",
            "State 19\n",
            "sight, self, deeds, might, pleasure, end, will, fair, life, breast, \n",
            "\n",
            "State 20\n",
            "not, all, in, for, make, as, that, but, i, from, \n",
            "\n",
            "State 21\n",
            "that, for, or, doth, but, which, and, thou, are, should, \n",
            "\n",
            "State 22\n",
            "with, in, by, when, if, upon, as, is, like, against, \n",
            "\n",
            "State 23\n",
            "thee, be, prove, lie, more, now, decay, well, have, praise, \n",
            "\n",
            "State 24\n",
            "ill, alone, free, tell, gone, rare, twain, light, kill, near, \n",
            "\n"
          ],
          "name": "stdout"
        }
      ]
    },
    {
      "metadata": {
        "id": "cN6eVQr68hKP",
        "colab_type": "code",
        "colab": {
          "base_uri": "https://localhost:8080/",
          "height": 34
        },
        "outputId": "7657036e-f3ab-40a5-acfc-0047019233dc"
      },
      "cell_type": "code",
      "source": [
        "A = np.array(model.A)\n",
        "make_graph(A).render('rhyme_hmm')"
      ],
      "execution_count": 32,
      "outputs": [
        {
          "output_type": "execute_result",
          "data": {
            "text/plain": [
              "'rhyme_hmm.png'"
            ]
          },
          "metadata": {
            "tags": []
          },
          "execution_count": 32
        }
      ]
    }
  ]
}