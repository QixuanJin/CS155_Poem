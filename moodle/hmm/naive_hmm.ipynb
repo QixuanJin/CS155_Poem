{
  "nbformat": 4,
  "nbformat_minor": 0,
  "metadata": {
    "colab": {
      "name": "naive_hmm.ipynb",
      "version": "0.3.2",
      "provenance": []
    },
    "kernelspec": {
      "name": "python3",
      "display_name": "Python 3"
    },
    "accelerator": "GPU"
  },
  "cells": [
    {
      "metadata": {
        "id": "g-FFvRSkc8pU",
        "colab_type": "code",
        "colab": {}
      },
      "cell_type": "code",
      "source": [
        "from google.colab import files\n",
        "def getLocalFiles():\n",
        "    _files = files.upload()\n",
        "    if len(_files) >0:\n",
        "       for k,v in _files.items():\n",
        "         open(k,'wb').write(v)\n",
        "getLocalFiles()\n",
        "\n",
        "files.upload()"
      ],
      "execution_count": 0,
      "outputs": []
    },
    {
      "metadata": {
        "id": "LJ0H37h2fEfn",
        "colab_type": "code",
        "colab": {}
      },
      "cell_type": "code",
      "source": [
        "import numpy as np\n",
        "import nltk\n",
        "import graphviz as gv\n",
        "\n",
        "from nltk.tokenize import RegexpTokenizer\n",
        "from HMM import unsupervised_HMM"
      ],
      "execution_count": 0,
      "outputs": []
    },
    {
      "metadata": {
        "id": "BPvd7oeUdHpP",
        "colab_type": "code",
        "colab": {}
      },
      "cell_type": "code",
      "source": [
        "def tokenize(filename):\n",
        "    tokenizer = RegexpTokenizer('\\w[\\w|\\'|-]*\\w|\\w') \n",
        "\n",
        "    tokens = []\n",
        "    with open(filename) as f:\n",
        "        for line in f:\n",
        "            line = line.strip()\n",
        "            if (not line.isdigit() and len(line) > 0):\n",
        "                line = line.lower()\n",
        "                tokens.append(tokenizer.tokenize(line))\n",
        "    return tokens\n",
        "\n",
        "def assign_ids(tokens):\n",
        "    counter = 0\n",
        "    ids_map = {}\n",
        "\n",
        "    for line in tokens:\n",
        "        for word in line:\n",
        "            if word not in ids_map:\n",
        "                ids_map[word] = counter\n",
        "                counter += 1\n",
        "    return ids_map\n",
        "\n",
        "def generate_ids(tokens, ids_map):\n",
        "    ids = []\n",
        "    for line in tokens:\n",
        "        line_ids = [ids_map[word] for word in line]\n",
        "        ids.append(line_ids)\n",
        "    return ids\n",
        "        \n",
        "def reverse_map(ids_map):\n",
        "    ids_map_r = {}\n",
        "    for key, value in ids_map.items():\n",
        "        ids_map_r[value] = key\n",
        "    return ids_map_r\n",
        "\n",
        "def write_poem(hmm, ids_map_r, nwords, nlines=14):\n",
        "    poem = ''\n",
        "    \n",
        "    for n in range(nlines):\n",
        "        line_ids, states = hmm.generate_emission(nwords)\n",
        "        words = [ids_map_r[i] for i in line_ids]\n",
        "        poem += ' '.join(words).capitalize()\n",
        "        \n",
        "        if ((n + 1) % 4 == 0) or (n == 13):\n",
        "          poem += '.\\n'\n",
        "        else:\n",
        "          poem += ',\\n'\n",
        "          \n",
        "    return poem\n",
        "  \n",
        "def make_graph(matrix):\n",
        "\n",
        "    graph = gv.Digraph(format='png')\n",
        "    n, m = matrix.shape\n",
        "    \n",
        "    for i in range(n):\n",
        "      graph.node(str(i))\n",
        "    \n",
        "    rows, cols = np.where(matrix >= 0.01)    \n",
        "    rows = map(str, rows.tolist())\n",
        "    cols = map(str, cols.tolist())\n",
        "    \n",
        "    edges = zip(rows, cols)\n",
        "    weighted_edges = zip(edges, map(lambda x: \"%0.2f\" % (x), matrix[rows, cols]))\n",
        "    \n",
        "    for edge in weighted_edges:\n",
        "      if isinstance(e[0], tuple):\n",
        "        graph.edge(*(e[0] + (e[1],)))\n",
        "      else:\n",
        "        graph.edge(e)\n",
        "    return graph"
      ],
      "execution_count": 0,
      "outputs": []
    },
    {
      "metadata": {
        "id": "aTS0o0sYfO1T",
        "colab_type": "code",
        "colab": {}
      },
      "cell_type": "code",
      "source": [
        "tokens = tokenize('shakespeare.txt')\n",
        "ids_map = assign_ids(tokens)\n",
        "ids = generate_ids(tokens, ids_map)\n",
        "ids_map_r = reverse_map(ids_map)"
      ],
      "execution_count": 0,
      "outputs": []
    },
    {
      "metadata": {
        "id": "rbybHj6dr3xJ",
        "colab_type": "code",
        "colab": {}
      },
      "cell_type": "code",
      "source": [
        "hmm = unsupervised_HMM(ids, 25, 1000)"
      ],
      "execution_count": 0,
      "outputs": []
    },
    {
      "metadata": {
        "id": "ByOSrS8msxOa",
        "colab_type": "code",
        "colab": {
          "base_uri": "https://localhost:8080/",
          "height": 277
        },
        "outputId": "c46d277f-00b7-4e3d-9a7d-bbc7c9b7515c"
      },
      "cell_type": "code",
      "source": [
        "poem = write_poem(hmm, ids_map_r, 8)\n",
        "print(poem)"
      ],
      "execution_count": 51,
      "outputs": [
        {
          "output_type": "stream",
          "text": [
            "Bring looks every have fair days and like,\n",
            "With whose thy dust may and to thy,\n",
            "Dignifies the story of the worst of with,\n",
            "In their self my trespass argument to another.\n",
            "Thy speaking false with old that pride ransom,\n",
            "Of thee grieved alone confess first heavy dare,\n",
            "Not as i on sworn wing of such,\n",
            "These love and rhyme with the sun boat.\n",
            "Were me watch beauty do promise every i,\n",
            "Do speed one why age by authority i,\n",
            "And i let fool much then walk of,\n",
            "Reigns love not too me due be my.\n",
            "Torment love it will thee the rebel and,\n",
            "Lest never art visage from tell my neglect.\n",
            "\n"
          ],
          "name": "stdout"
        }
      ]
    },
    {
      "metadata": {
        "id": "w2YEHM4jCtS6",
        "colab_type": "code",
        "colab": {
          "base_uri": "https://localhost:8080/",
          "height": 1317
        },
        "outputId": "795ba687-9218-4cd6-acfd-60b270b0b27a"
      },
      "cell_type": "code",
      "source": [
        "O = np.array(hmm.O)\n",
        "\n",
        "for i in range(len(O)):\n",
        "    top10 = O[i].argsort()[-10:][::]\n",
        "    print(\"State \" + str(i))\n",
        "    for j in top10:\n",
        "        print(ids_map_r[j] + \", \", end=\"\")\n",
        "    print(\"\\n\")"
      ],
      "execution_count": 84,
      "outputs": [
        {
          "output_type": "stream",
          "text": [
            "State 0\n",
            "must, can, would, may, shall, am, should, will, do, thou, \n",
            "\n",
            "State 1\n",
            "thus, doth, how, so, being, but, nor, are, to, thee, \n",
            "\n",
            "State 2\n",
            "where, their, as, him, what, thy, all, so, me, thee, \n",
            "\n",
            "State 3\n",
            "that, to, for, not, she, it, as, but, thee, and, \n",
            "\n",
            "State 4\n",
            "whilst, ah, how, then, for, or, which, but, o, and, \n",
            "\n",
            "State 5\n",
            "this, no, and, or, all, so, to, in, with, of, \n",
            "\n",
            "State 6\n",
            "than, no, thy, shall, do, though, what, as, when, that, \n",
            "\n",
            "State 7\n",
            "you, me, is, that, this, as, all, in, not, to, \n",
            "\n",
            "State 8\n",
            "the, with, of, so, from, a, by, be, in, to, \n",
            "\n",
            "State 9\n",
            "but, from, by, with, what, for, her, of, to, in, \n",
            "\n",
            "State 10\n",
            "other, beauty, mind, will, worth, name, praise, love, heart, self, \n",
            "\n",
            "State 11\n",
            "like, let, yet, but, then, so, that, how, for, if, \n",
            "\n",
            "State 12\n",
            "that, yet, therefore, nor, when, so, who, o, but, and, \n",
            "\n",
            "State 13\n",
            "what, beauty, still, they, it, he, which, mine, you, i, \n",
            "\n",
            "State 14\n",
            "you, on, live, make, not, in, dost, i, art, be, \n",
            "\n",
            "State 15\n",
            "for, which, shall, love, still, hath, are, and, that, doth, \n",
            "\n",
            "State 16\n",
            "that, this, no, their, his, your, a, thy, my, the, \n",
            "\n",
            "State 17\n",
            "me, ill, love, thy, that, this, mine, thee, thine, more, \n",
            "\n",
            "State 18\n",
            "him, one, did, too, have, you, it, love, his, me, \n",
            "\n",
            "State 19\n",
            "much, from, or, then, hath, and, as, have, with, for, \n",
            "\n",
            "State 20\n",
            "since, know, were, thou, see, have, all, is, on, in, \n",
            "\n",
            "State 21\n",
            "mayst, will, like, you, why, what, that, thou, to, not, \n",
            "\n",
            "State 22\n",
            "gentle, sight, heart, beauty, time, fair, world, self, sweet, love, \n",
            "\n",
            "State 23\n",
            "was, all, alone, even, one, youth, as, and, of, is, \n",
            "\n",
            "State 24\n",
            "so, eye, own, is, eyes, than, but, which, or, and, \n",
            "\n"
          ],
          "name": "stdout"
        }
      ]
    },
    {
      "metadata": {
        "id": "HH_3tddXD2_v",
        "colab_type": "code",
        "colab": {
          "base_uri": "https://localhost:8080/",
          "height": 35
        },
        "outputId": "0a7b6b35-c4d8-4ba6-8d7c-5a582db9886b"
      },
      "cell_type": "code",
      "source": [
        "A = np.array(hmm.A)\n",
        "make_graph(A).render('naive_hmm')"
      ],
      "execution_count": 77,
      "outputs": [
        {
          "output_type": "execute_result",
          "data": {
            "text/plain": [
              "'naive_hmm.png'"
            ]
          },
          "metadata": {
            "tags": []
          },
          "execution_count": 77
        }
      ]
    }
  ]
}
